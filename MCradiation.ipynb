{
  "nbformat": 4,
  "nbformat_minor": 0,
  "metadata": {
    "colab": {
      "name": "MCradiation.ipynb",
      "provenance": [],
      "authorship_tag": "ABX9TyNVCE5yNwpepVlDeEknJfQh",
      "include_colab_link": true
    },
    "kernelspec": {
      "name": "python3",
      "display_name": "Python 3"
    },
    "language_info": {
      "name": "python"
    }
  },
  "cells": [
    {
      "cell_type": "markdown",
      "metadata": {
        "id": "view-in-github",
        "colab_type": "text"
      },
      "source": [
        "<a href=\"https://colab.research.google.com/github/jcandane/mcrad/blob/main/MCradiation.ipynb\" target=\"_parent\"><img src=\"https://colab.research.google.com/assets/colab-badge.svg\" alt=\"Open In Colab\"/></a>"
      ]
    },
    {
      "cell_type": "markdown",
      "source": [
        ""
      ],
      "metadata": {
        "id": "ErCu9bt-lvx2"
      }
    },
    {
      "cell_type": "code",
      "execution_count": 1,
      "metadata": {
        "colab": {
          "base_uri": "https://localhost:8080/"
        },
        "id": "vEmDDOtBltzk",
        "outputId": "b13be3b9-ee61-4c6b-f579-dc67d361aec2"
      },
      "outputs": [
        {
          "output_type": "stream",
          "name": "stdout",
          "text": [
            "Cloning into 'xyz_file_manager'...\n",
            "remote: Enumerating objects: 37, done.\u001b[K\n",
            "remote: Counting objects: 100% (37/37), done.\u001b[K\n",
            "remote: Compressing objects: 100% (36/36), done.\u001b[K\n",
            "remote: Total 37 (delta 21), reused 0 (delta 0), pack-reused 0\u001b[K\n",
            "Unpacking objects: 100% (37/37), done.\n"
          ]
        }
      ],
      "source": [
        "!git clone https://github.com/jcandane/xyz_file_manager\n",
        "\n",
        "import numpy as np\n",
        "import matplotlib.pyplot as plt\n",
        "from xyz_file_manager.xyz_manager import xyz_reader, Get_xyz_movie\n",
        "\n",
        "np.set_printoptions(precision=4, linewidth=200, threshold=2000, suppress=True)"
      ]
    },
    {
      "cell_type": "code",
      "source": [
        "Z, R_ix = xyz_reader(\"Ar_1000.xyz\")"
      ],
      "metadata": {
        "id": "xHewhueXmJIJ"
      },
      "execution_count": 2,
      "outputs": []
    },
    {
      "cell_type": "code",
      "source": [
        "np.amax(R_ix,axis=0), np.amin(R_ix,axis=0)"
      ],
      "metadata": {
        "colab": {
          "base_uri": "https://localhost:8080/"
        },
        "id": "3_9lFh2fuzWr",
        "outputId": "05d3b49a-3b86-407d-edf9-b7bb89281a80"
      },
      "execution_count": 37,
      "outputs": [
        {
          "output_type": "execute_result",
          "data": {
            "text/plain": [
              "(array([ 0.   , 99.324, -0.   ]), array([-99.324,   0.   , -99.324]))"
            ]
          },
          "metadata": {},
          "execution_count": 37
        }
      ]
    },
    {
      "cell_type": "markdown",
      "source": [
        "### pulse profile\n",
        "\n",
        "$ N(x,y,z) = \\exp{\\left( - \\xi_1 (x-x_0)^2 - \\xi_2 (y - y_0)^2 - \\xi_3 (z - z_0)^2 \\right)} $\n",
        "\n",
        "$N(x,y,z,t) = \\exp{\\left( - \\xi_1 (x-x_0)^2 - \\xi_2 (y - y_0)^2 - \\xi_3 (z - z_0 - v t)^2 \\right)} $ (Flux given the position)\n",
        "\n",
        "$N(t)$ (Total Flow)\n",
        "\n",
        "$P = \\frac{\\text{scattered flow}}{\\text{flow in}}$\n",
        "\n",
        "$\\sigma = \\frac{\\text{scattered flow}}{\\text{flux in}} \\quad\\Rightarrow\\quad \\text{flux in} \\sigma = \\text{scattered flow}$\n",
        "\n",
        "$\\therefore\\quad P = \\frac{\\text{flux in} \\sigma}{\\text{flow in}} = \\frac{\\sigma N(\\hat{x},\\hat{y},t)}{N(t)}$"
      ],
      "metadata": {
        "id": "ElimgkdVmwrv"
      }
    },
    {
      "cell_type": "code",
      "source": [
        "Γx  = 2     ## å (a0)\n",
        "Γy  = 10    ## å\n",
        "Γz  = 0.5   ## å\n",
        "x0  = -50   ## å\n",
        "y0  =  50   ## å\n",
        "z00 = -180  ## å\n",
        "σ   = 0.01  ## å\n",
        "\n",
        "σ_system = σ*np.ones(len(R_ix)) ### !!\n",
        "\n",
        "dt = 0.001\n",
        "T  = np.arange(-1,1,dt)\n",
        "N  = (2/Γz) * np.sqrt(np.log(2)/np.pi) * np.exp( - 4*np.log(2) *(T - 0)**2 / Γz**2 ) ## z00\n",
        "\n",
        "print( np.sum( N * dt ) )\n",
        "\n",
        "plt.plot(T, N)\n",
        "#plt.xlim([-210,-100])\n",
        "plt.show()\n",
        "\n",
        "len(T)"
      ],
      "metadata": {
        "colab": {
          "base_uri": "https://localhost:8080/",
          "height": 300
        },
        "id": "BpeqLn7xmlXp",
        "outputId": "754ac09b-bed2-43f9-adae-3c60d4b9503c"
      },
      "execution_count": 112,
      "outputs": [
        {
          "output_type": "stream",
          "name": "stdout",
          "text": [
            "0.9999975183479981\n"
          ]
        },
        {
          "output_type": "display_data",
          "data": {
            "text/plain": [
              "<Figure size 432x288 with 1 Axes>"
            ],
            "image/png": "[encoded data removed]"
          },
          "metadata": {
            "needs_background": "light"
          }
        },
        {
          "output_type": "execute_result",
          "data": {
            "text/plain": [
              "2000"
            ]
          },
          "metadata": {},
          "execution_count": 112
        }
      ]
    },
    {
      "cell_type": "code",
      "source": [
        "t = -1.0  ## system time in a.u.\n",
        "v = 120. ## speed in a.u.\n",
        "\n",
        "print( v * t * dt )\n",
        "\n",
        "z0 = z00 - v*t ## total time\n",
        "\n",
        "N_flux = 8/(Γx*Γy*Γz) * (np.log(2)/np.pi)**(3/2) * np.exp( - 4*np.log(2) * (  (R_ix[:,0] - x0)**2 + (R_ix[:,1] - y0)**2 + (R_ix[:,2] - z0)**2) )\n",
        "N_t    = (2/Γz) * np.sqrt(np.log(2)/np.pi) * np.exp( - 4*np.log(2) *(R_ix[:,2] - z0)**2 / Γz**2 ) + 1e-15\n",
        "#\n",
        "print(N_t.shape)\n",
        "print(N_flux.shape)\n",
        "print(σ_system.shape)\n",
        "#σ_system * N / N_t\n",
        "\n",
        "P = (σ_system * N_flux)/ N_t\n",
        "\n",
        "print( np.allclose( (P), np.zeros(len(R_ix)) ) )\n",
        "\n",
        "print(z0)\n",
        "\n",
        "P\n",
        "\n",
        "def get_probs(σsystem, v, t, R_ix, Γx, Γy, Γz, x0, y0, z00, N):\n",
        "    \"\"\"\n",
        "    GIVEN:  pulse parameters (v, Γx, Γy, Γz, x0, y0, z00, N)\n",
        "            system cross sections (σsystem in a.u.)\n",
        "            system positions (R_ix, in a.u.)\n",
        "            global time (t, in a.u.)\n",
        "    GET:    collision probabilities for all atoms (P)\n",
        "    \"\"\"\n",
        "\n",
        "    z0     = z00 - v*t\n",
        "    N_flux = N * 8/(Γx*Γy*Γz) * (np.log(2)/np.pi)**(3/2) * np.exp( - 4*np.log(2) * (  (R_ix[:,0] - x0)**2 + (R_ix[:,1] - y0)**2 + (R_ix[:,2] - z0)**2) )\n",
        "    N_t    = N * (2/Γz) * np.sqrt(np.log(2)/np.pi) * np.exp( - 4*np.log(2) *(R_ix[:,2] - z0)**2 / Γz**2 ) + 1e-15\n",
        "    P      = (σ_system * N_flux)/ N_t\n",
        "\n",
        "    return P\n",
        "\n",
        "np.allclose(get_probs(σ_system, v, t, R_ix, Γx, Γy, Γz, x0, y0, z00, 10), P)"
      ],
      "metadata": {
        "colab": {
          "base_uri": "https://localhost:8080/"
        },
        "id": "hElRvJ7e0lMv",
        "outputId": "78afbb7a-028f-4337-a103-0fa6f0dba38e"
      },
      "execution_count": 124,
      "outputs": [
        {
          "output_type": "stream",
          "name": "stdout",
          "text": [
            "-0.12\n",
            "(4631,)\n",
            "(4631,)\n",
            "(4631,)\n",
            "False\n",
            "-60.0\n"
          ]
        },
        {
          "output_type": "execute_result",
          "data": {
            "text/plain": [
              "True"
            ]
          },
          "metadata": {},
          "execution_count": 124
        }
      ]
    },
    {
      "cell_type": "markdown",
      "source": [
        "### backup"
      ],
      "metadata": {
        "id": "c05p1BN30lxg"
      }
    },
    {
      "cell_type": "code",
      "source": [
        "t = 1400\n",
        "v = 0.1\n",
        "\n",
        "print( v * t * dt )\n",
        "\n",
        "z0 = z00 + v*t\n",
        "\n",
        "N_flux = 8/(Γx*Γy*Γz) * (np.log(2)/np.pi)**(3/2) * np.exp( - 4*np.log(2) * (  (R_ix[:,0] - x0)**2 + (R_ix[:,1] - y0)**2 + (R_ix[:,2] - z0)**2) )\n",
        "N_t    = (2/Γz) * np.sqrt(np.log(2)/np.pi) * np.exp( - 4*np.log(2) *(R_ix[:,2] - z0)**2 / Γz**2 ) + 1e-15\n",
        "#\n",
        "print(N_t.shape)\n",
        "print(N_flux.shape)\n",
        "print(σ_system.shape)\n",
        "#σ_system * N / N_t\n",
        "\n",
        "P = (σ_system * N_flux)/ N_t\n",
        "\n",
        "print( np.allclose( (P), np.zeros(len(R_ix)) ) )\n",
        "\n",
        "print(z0)\n",
        "\n",
        "P"
      ],
      "metadata": {
        "colab": {
          "base_uri": "https://localhost:8080/"
        },
        "id": "lJbLLby8mmZ2",
        "outputId": "5455509c-d5e5-4729-cb00-86f5aed29ef3"
      },
      "execution_count": 94,
      "outputs": [
        {
          "output_type": "stream",
          "name": "stdout",
          "text": [
            "14.0\n",
            "(4631,)\n",
            "(4631,)\n",
            "(4631,)\n",
            "False\n",
            "-60.0\n"
          ]
        },
        {
          "output_type": "execute_result",
          "data": {
            "text/plain": [
              "array([0., 0., 0., ..., 0., 0., 0.])"
            ]
          },
          "metadata": {},
          "execution_count": 94
        }
      ]
    },
    {
      "cell_type": "markdown",
      "source": [
        "## MC part"
      ],
      "metadata": {
        "id": "a9ZnT-oOzQbx"
      }
    },
    {
      "cell_type": "code",
      "source": [
        "np.random.rand(len(R_ix)) < P"
      ],
      "metadata": {
        "colab": {
          "base_uri": "https://localhost:8080/"
        },
        "id": "OhU3vUENnM0r",
        "outputId": "ceda38b4-7a3d-40b7-cba5-a03bc535fc29"
      },
      "execution_count": 97,
      "outputs": [
        {
          "output_type": "execute_result",
          "data": {
            "text/plain": [
              "array([False, False, False, ..., False, False, False])"
            ]
          },
          "metadata": {},
          "execution_count": 97
        }
      ]
    },
    {
      "cell_type": "markdown",
      "source": [
        "## For-loop over time"
      ],
      "metadata": {
        "id": "4eVZMoYH2Y91"
      }
    },
    {
      "cell_type": "code",
      "source": [
        "time = np.arange(-1, 1, 0.001)\n",
        "\n",
        "for i in range(len(time)):\n",
        "    a = ( np.where( np.random.rand(len(R_ix)) < get_probs(σ_system, v, time[i], R_ix, Γx, Γy, Γz, x0, y0, z00, 10000000) )[0] )\n",
        "    if len(a) != 0:\n",
        "        print(a)"
      ],
      "metadata": {
        "colab": {
          "base_uri": "https://localhost:8080/"
        },
        "id": "X-escGi7pfI_",
        "outputId": "619b5ba1-e03a-4f3e-a2e2-da85a0f71ad5"
      },
      "execution_count": 127,
      "outputs": [
        {
          "output_type": "stream",
          "name": "stdout",
          "text": [
            "[1971]\n",
            "[1971]\n",
            "[1971]\n",
            "[1971]\n",
            "[1971]\n",
            "[1971]\n",
            "[1971]\n",
            "[1971]\n",
            "[1971]\n",
            "[1971]\n",
            "[1971]\n",
            "[1971]\n",
            "[1971]\n",
            "[1971]\n",
            "[1971]\n",
            "[1971]\n",
            "[1971]\n",
            "[1971]\n",
            "[1971]\n",
            "[1971]\n",
            "[1971]\n",
            "[1971]\n",
            "[1971]\n",
            "[1971]\n",
            "[1971]\n",
            "[1975]\n",
            "[1975]\n",
            "[1975]\n",
            "[1975]\n",
            "[1975]\n",
            "[1975]\n",
            "[1975]\n",
            "[1975]\n",
            "[1975]\n",
            "[1975]\n",
            "[1975]\n",
            "[1975]\n",
            "[1975]\n",
            "[1975]\n",
            "[1975]\n",
            "[1975]\n",
            "[1975]\n",
            "[1975]\n",
            "[1975]\n",
            "[1975]\n",
            "[1975]\n",
            "[1975]\n",
            "[1975]\n",
            "[1975]\n",
            "[1975]\n",
            "[1975]\n",
            "[1975]\n",
            "[1975]\n",
            "[1975]\n",
            "[1975]\n",
            "[1975]\n",
            "[1975]\n",
            "[1975]\n",
            "[1975]\n",
            "[1975]\n",
            "[1975]\n",
            "[1975]\n",
            "[1975]\n",
            "[1975]\n",
            "[1975]\n",
            "[1975]\n",
            "[1975]\n",
            "[1975]\n",
            "[1975]\n",
            "[1975]\n",
            "[1975]\n",
            "[1975]\n",
            "[1975]\n",
            "[1975]\n",
            "[1975]\n",
            "[1975]\n",
            "[1975]\n",
            "[1979]\n",
            "[1979]\n",
            "[1979]\n",
            "[1979]\n",
            "[1979]\n",
            "[1979]\n",
            "[1979]\n",
            "[1979]\n",
            "[1979]\n",
            "[1979]\n",
            "[1979]\n",
            "[1979]\n",
            "[1979]\n",
            "[1979]\n",
            "[1979]\n",
            "[1979]\n",
            "[1979]\n",
            "[1979]\n",
            "[1979]\n",
            "[1979]\n",
            "[1979]\n",
            "[1979]\n",
            "[1979]\n",
            "[1979]\n",
            "[1979]\n",
            "[1979]\n",
            "[1979]\n",
            "[1979]\n",
            "[1979]\n",
            "[1979]\n",
            "[1979]\n",
            "[1979]\n",
            "[1979]\n",
            "[1979]\n",
            "[1979]\n",
            "[1979]\n",
            "[1979]\n",
            "[1979]\n",
            "[1979]\n",
            "[1979]\n",
            "[1979]\n",
            "[1979]\n",
            "[1979]\n",
            "[1979]\n",
            "[1979]\n",
            "[1979]\n",
            "[1979]\n",
            "[1979]\n",
            "[1979]\n",
            "[1979]\n",
            "[1979]\n",
            "[1979]\n",
            "[1983]\n",
            "[1983]\n",
            "[1983]\n",
            "[1983]\n",
            "[1983]\n",
            "[1983]\n",
            "[1983]\n",
            "[1983]\n",
            "[1983]\n",
            "[1983]\n",
            "[1983]\n",
            "[1983]\n",
            "[1983]\n",
            "[1983]\n",
            "[1983]\n",
            "[1983]\n",
            "[1983]\n",
            "[1983]\n",
            "[1983]\n",
            "[1983]\n",
            "[1983]\n",
            "[1983]\n",
            "[1983]\n",
            "[1983]\n",
            "[1983]\n",
            "[1983]\n",
            "[1983]\n",
            "[1983]\n",
            "[1983]\n",
            "[1983]\n",
            "[1983]\n",
            "[1983]\n",
            "[1983]\n",
            "[1983]\n",
            "[1983]\n",
            "[1983]\n",
            "[1983]\n",
            "[1983]\n",
            "[1983]\n",
            "[1983]\n",
            "[1983]\n",
            "[1983]\n",
            "[1983]\n",
            "[1983]\n",
            "[1983]\n",
            "[1983]\n",
            "[1983]\n",
            "[1983]\n",
            "[1983]\n",
            "[1983]\n",
            "[1983]\n",
            "[1983]\n",
            "[1987]\n",
            "[1987]\n",
            "[1987]\n",
            "[1987]\n",
            "[1987]\n",
            "[1987]\n",
            "[1987]\n",
            "[1987]\n",
            "[1987]\n",
            "[1987]\n",
            "[1987]\n",
            "[1987]\n",
            "[1987]\n",
            "[1987]\n",
            "[1987]\n",
            "[1987]\n",
            "[1987]\n",
            "[1987]\n",
            "[1987]\n",
            "[1987]\n",
            "[1987]\n",
            "[1987]\n",
            "[1987]\n",
            "[1987]\n",
            "[1987]\n",
            "[1987]\n",
            "[1987]\n",
            "[1987]\n",
            "[1987]\n",
            "[1987]\n",
            "[1987]\n",
            "[1987]\n",
            "[1987]\n",
            "[1987]\n",
            "[1987]\n",
            "[1987]\n",
            "[1987]\n",
            "[1987]\n",
            "[1987]\n",
            "[1987]\n",
            "[1987]\n",
            "[1987]\n",
            "[1987]\n",
            "[1987]\n",
            "[1987]\n",
            "[1987]\n",
            "[1987]\n",
            "[1987]\n",
            "[1987]\n",
            "[1987]\n",
            "[1987]\n"
          ]
        }
      ]
    },
    {
      "cell_type": "code",
      "source": [
        ""
      ],
      "metadata": {
        "id": "Sak8tav82xNP"
      },
      "execution_count": null,
      "outputs": []
    }
  ]
}